{
 "cells": [
  {
   "cell_type": "code",
   "execution_count": 1,
   "metadata": {
    "collapsed": true
   },
   "outputs": [],
   "source": [
    "import torch as t\n",
    "from torch import nn\n",
    "import numpy as np\n",
    "import pandas as pd\n",
    "\n",
    "from utils import Pipeline_lstm\n",
    "from torch.utils.tensorboard import SummaryWriter\n",
    "\n",
    "import warnings\n",
    "warnings.simplefilter('ignore')\n",
    "DEVICE = 'cuda' if t.cuda.is_available() else 'cpu'"
   ]
  },
  {
   "cell_type": "code",
   "execution_count": 2,
   "outputs": [],
   "source": [
    "df = pd.read_csv('./train.csv', index_col=0)\n",
    "df_test = pd.read_csv('./test.csv', index_col=0)\n",
    "\n",
    "df_coin = df.loc[df['coin_id'] == 'coin_1']"
   ],
   "metadata": {
    "collapsed": false
   }
  },
  {
   "cell_type": "code",
   "execution_count": 3,
   "outputs": [],
   "source": [
    "features = ['feat_1', 'feat_2', 'feat_3', 'feat_4', 'feat_5', 'feat_8', 'feat_9', 'feat_10']\n",
    "lookback=30\n",
    "\n",
    "train_split = 0.8\n",
    "split_ind = int(df_coin.shape[0] * train_split)\n",
    "\n",
    "X_train = df_coin[features].iloc[:split_ind]\n",
    "X_test = df_coin[features].iloc[split_ind:]\n",
    "\n",
    "y_train = df_coin['fwd_ret_3d'].iloc[:split_ind]\n",
    "y_test = df_coin['fwd_ret_3d'].iloc[split_ind:]\n",
    "\n",
    "pipe = Pipeline_lstm(lookback=lookback)\n",
    "train_ds = pipe.fit_transform(X_train, y_train)\n",
    "val_ds = pipe.transform(X_test, y_test)"
   ],
   "metadata": {
    "collapsed": false
   }
  },
  {
   "cell_type": "code",
   "execution_count": 4,
   "outputs": [],
   "source": [
    "class ConvModel(nn.Module):\n",
    "    def __init__(self, channels=5):\n",
    "        super().__init__()\n",
    "        self.conv = t.nn.Sequential(\n",
    "            t.nn.Conv1d(channels, 16, 3, padding=1),\n",
    "            t.nn.BatchNorm1d(16),\n",
    "            t.nn.ReLU(),\n",
    "\n",
    "            # t.nn.Conv1d(16, 32, 3, padding=1),\n",
    "            # t.nn.BatchNorm1d(32),\n",
    "            # t.nn.ReLU(),\n",
    "\n",
    "            t.nn.Flatten(),\n",
    "            t.nn.Linear(128, 1),\n",
    "        )\n",
    "        self.conv[0].bias.data.fill_(0.1)\n",
    "        self.conv[0].weight.data.fill_(0.1)\n",
    "        self.conv[-1].bias.data.fill_(0.1)\n",
    "        self.conv[-1].weight.data.fill_(0.1)\n",
    "\n",
    "    def forward(self, x):\n",
    "        return self.conv(x)"
   ],
   "metadata": {
    "collapsed": false
   }
  },
  {
   "cell_type": "code",
   "execution_count": 5,
   "outputs": [
    {
     "name": "stderr",
     "output_type": "stream",
     "text": [
      "2023-01-17 19:23:58.724692: I tensorflow/core/platform/cpu_feature_guard.cc:193] This TensorFlow binary is optimized with oneAPI Deep Neural Network Library (oneDNN) to use the following CPU instructions in performance-critical operations:  SSE4.1 SSE4.2 AVX AVX2 AVX_VNNI FMA\n",
      "To enable them in other operations, rebuild TensorFlow with the appropriate compiler flags.\n",
      "Train Loss: 0.86; Val Loss: 0.92: 100%|██████████| 1800/1800 [00:05<00:00, 337.09it/s]\n"
     ]
    }
   ],
   "source": [
    "from train_tools import TrainModel_NoLoader, pearson_c\n",
    "\n",
    "model_conv = ConvModel(lookback).to(device=DEVICE)\n",
    "\n",
    "lr = 5e-5\n",
    "optimizer = t.optim.Adam(model_conv.parameters(),\n",
    "                         lr=lr)\n",
    "writer = SummaryWriter('./runs/1dConv/')\n",
    "epochs=1800\n",
    "\n",
    "_ = TrainModel_NoLoader(model=model_conv,\n",
    "                        loss_fn=pearson_c,\n",
    "                        optimizer=optimizer,\n",
    "                        train_ds=train_ds,\n",
    "                        val_ds=val_ds,\n",
    "                        epochs=epochs,\n",
    "                        display_on_epoch = 1,\n",
    "                        device=DEVICE,\n",
    "                        writer=writer)"
   ],
   "metadata": {
    "collapsed": false
   }
  },
  {
   "cell_type": "code",
   "execution_count": 6,
   "outputs": [],
   "source": [
    "from SeparatePredictor import SeparatePredictor\n",
    "\n",
    "class Conv1dPredictor(SeparatePredictor):\n",
    "    def prepare(self):\n",
    "        self.devided_data, self.y_devided, self.class_labels = self.separate_data(self.raw_data, self.y)\n",
    "        self.models = dict(zip(self.class_labels, self.models))\n",
    "        self.set_up_pipeline(\n",
    "            pipeline_f=Pipeline_lstm,\n",
    "            pipe_params={'lookback':self.lookback},\n",
    "            train_f=TrainModel_NoLoader\n",
    "        )\n",
    "        self.train_test_split()\n",
    "        self.fit_preprocess()\n",
    "\n",
    "        self.train_ds = self.prepare_data(self.X_train, self.y_train)\n",
    "        self.test_ds = self.prepare_data(self.X_test, self.y_test)\n",
    "\n",
    "    def train(self, device='cpu', epoch_shedule=None, epochs=100, **kwargs):\n",
    "        for cls in self.class_labels:\n",
    "            print(f\"TRAINING f{cls}\")\n",
    "            writer = SummaryWriter('./runs/1dConv_multi/{}'.format(cls))\n",
    "            if epoch_shedule is not None:\n",
    "                epochs = epoch_shedule[cls]\n",
    "            self.train_class(self.models[cls].to(device=device),\n",
    "                             self.train_ds[cls],\n",
    "                             self.test_ds[cls],\n",
    "                             device=device,\n",
    "                             writer=writer,\n",
    "                             epochs=epochs,\n",
    "                             **kwargs)\n",
    "\n"
   ],
   "metadata": {
    "collapsed": false
   }
  },
  {
   "cell_type": "code",
   "execution_count": 7,
   "outputs": [],
   "source": [
    "lookback = 30\n",
    "epochs=2000\n",
    "features = ['feat_1', 'feat_2', 'feat_3', 'feat_4', 'feat_5', 'feat_8', 'feat_9', 'feat_10']\n",
    "\n",
    "predictor = Conv1dPredictor(models=[ConvModel],\n",
    "                            data=df,\n",
    "                            params={'channels': lookback},\n",
    "                            lookback=lookback,\n",
    "                            device=DEVICE,\n",
    "                            relevant_features=features)\n",
    "predictor.prepare()"
   ],
   "metadata": {
    "collapsed": false
   }
  },
  {
   "cell_type": "code",
   "execution_count": 7,
   "outputs": [],
   "source": [],
   "metadata": {
    "collapsed": false
   }
  },
  {
   "cell_type": "code",
   "execution_count": 8,
   "outputs": [],
   "source": [
    "import json\n",
    "\n",
    "with open('./epoch_shedule.json', 'r') as f:\n",
    "    epoch_shedule = json.load(f)"
   ],
   "metadata": {
    "collapsed": false
   }
  },
  {
   "cell_type": "code",
   "execution_count": 9,
   "outputs": [
    {
     "name": "stdout",
     "output_type": "stream",
     "text": [
      "TRAINING fcoin_1\n"
     ]
    },
    {
     "name": "stderr",
     "output_type": "stream",
     "text": [
      "Train Loss: 0.86; Val Loss: 0.92: 100%|██████████| 1800/1800 [00:03<00:00, 498.33it/s]\n"
     ]
    },
    {
     "name": "stdout",
     "output_type": "stream",
     "text": [
      "TRAINING fcoin_2\n"
     ]
    },
    {
     "name": "stderr",
     "output_type": "stream",
     "text": [
      "Train Loss: 0.99; Val Loss: 1.00: 100%|██████████| 500/500 [00:01<00:00, 446.15it/s]\n"
     ]
    },
    {
     "name": "stdout",
     "output_type": "stream",
     "text": [
      "TRAINING fcoin_3\n"
     ]
    },
    {
     "name": "stderr",
     "output_type": "stream",
     "text": [
      "Train Loss: 0.99; Val Loss: 0.95: 100%|██████████| 370/370 [00:00<00:00, 510.49it/s]\n"
     ]
    },
    {
     "name": "stdout",
     "output_type": "stream",
     "text": [
      "TRAINING fcoin_4\n"
     ]
    },
    {
     "name": "stderr",
     "output_type": "stream",
     "text": [
      "Train Loss: 0.90; Val Loss: 0.95: 100%|██████████| 1690/1690 [00:03<00:00, 516.74it/s]\n"
     ]
    },
    {
     "name": "stdout",
     "output_type": "stream",
     "text": [
      "TRAINING fcoin_5\n"
     ]
    },
    {
     "name": "stderr",
     "output_type": "stream",
     "text": [
      "Train Loss: 0.98; Val Loss: 1.00: 100%|██████████| 370/370 [00:00<00:00, 431.33it/s]\n"
     ]
    },
    {
     "name": "stdout",
     "output_type": "stream",
     "text": [
      "TRAINING fcoin_6\n"
     ]
    },
    {
     "name": "stderr",
     "output_type": "stream",
     "text": [
      "Train Loss: 0.98; Val Loss: 0.96: 100%|██████████| 690/690 [00:01<00:00, 460.26it/s]\n"
     ]
    },
    {
     "name": "stdout",
     "output_type": "stream",
     "text": [
      "TRAINING fcoin_7\n"
     ]
    },
    {
     "name": "stderr",
     "output_type": "stream",
     "text": [
      "Train Loss: 0.81; Val Loss: 0.99: 100%|██████████| 2500/2500 [00:05<00:00, 496.59it/s]\n"
     ]
    },
    {
     "name": "stdout",
     "output_type": "stream",
     "text": [
      "TRAINING fcoin_8\n"
     ]
    },
    {
     "name": "stderr",
     "output_type": "stream",
     "text": [
      "Train Loss: 0.85; Val Loss: 0.99: 100%|██████████| 1500/1500 [00:02<00:00, 524.74it/s]\n"
     ]
    },
    {
     "name": "stdout",
     "output_type": "stream",
     "text": [
      "TRAINING fcoin_9\n"
     ]
    },
    {
     "name": "stderr",
     "output_type": "stream",
     "text": [
      "Train Loss: 0.99; Val Loss: 0.95: 100%|██████████| 980/980 [00:01<00:00, 514.83it/s]\n"
     ]
    },
    {
     "name": "stdout",
     "output_type": "stream",
     "text": [
      "TRAINING fcoin_10\n"
     ]
    },
    {
     "name": "stderr",
     "output_type": "stream",
     "text": [
      "Train Loss: 0.94; Val Loss: 0.95: 100%|██████████| 1300/1300 [00:03<00:00, 407.08it/s]\n"
     ]
    },
    {
     "name": "stdout",
     "output_type": "stream",
     "text": [
      "TRAINING fcoin_11\n"
     ]
    },
    {
     "name": "stderr",
     "output_type": "stream",
     "text": [
      "Train Loss: 0.74; Val Loss: 1.00: 100%|██████████| 2500/2500 [00:05<00:00, 453.44it/s]\n"
     ]
    },
    {
     "name": "stdout",
     "output_type": "stream",
     "text": [
      "TRAINING fcoin_12\n"
     ]
    },
    {
     "name": "stderr",
     "output_type": "stream",
     "text": [
      "Train Loss: 0.91; Val Loss: 0.97: 100%|██████████| 1400/1400 [00:02<00:00, 530.68it/s]\n"
     ]
    },
    {
     "name": "stdout",
     "output_type": "stream",
     "text": [
      "TRAINING fcoin_13\n"
     ]
    },
    {
     "name": "stderr",
     "output_type": "stream",
     "text": [
      "Train Loss: 0.95; Val Loss: 1.00: 100%|██████████| 1020/1020 [00:02<00:00, 494.26it/s]\n"
     ]
    },
    {
     "name": "stdout",
     "output_type": "stream",
     "text": [
      "TRAINING fcoin_14\n"
     ]
    },
    {
     "name": "stderr",
     "output_type": "stream",
     "text": [
      "Train Loss: 0.94; Val Loss: 0.97: 100%|██████████| 1080/1080 [00:02<00:00, 505.07it/s]\n"
     ]
    },
    {
     "name": "stdout",
     "output_type": "stream",
     "text": [
      "TRAINING fcoin_15\n"
     ]
    },
    {
     "name": "stderr",
     "output_type": "stream",
     "text": [
      "Train Loss: 0.87; Val Loss: 0.97: 100%|██████████| 2100/2100 [00:04<00:00, 486.96it/s]\n"
     ]
    },
    {
     "name": "stdout",
     "output_type": "stream",
     "text": [
      "TRAINING fcoin_16\n"
     ]
    },
    {
     "name": "stderr",
     "output_type": "stream",
     "text": [
      "Train Loss: 0.88; Val Loss: 0.97: 100%|██████████| 2100/2100 [00:04<00:00, 515.30it/s]\n"
     ]
    },
    {
     "name": "stdout",
     "output_type": "stream",
     "text": [
      "TRAINING fcoin_17\n"
     ]
    },
    {
     "name": "stderr",
     "output_type": "stream",
     "text": [
      "Train Loss: 0.88; Val Loss: 0.94: 100%|██████████| 2200/2200 [00:04<00:00, 527.80it/s]\n"
     ]
    },
    {
     "name": "stdout",
     "output_type": "stream",
     "text": [
      "TRAINING fcoin_18\n"
     ]
    },
    {
     "name": "stderr",
     "output_type": "stream",
     "text": [
      "Train Loss: 0.96; Val Loss: 0.95: 100%|██████████| 650/650 [00:01<00:00, 499.16it/s]\n"
     ]
    },
    {
     "name": "stdout",
     "output_type": "stream",
     "text": [
      "TRAINING fcoin_19\n"
     ]
    },
    {
     "name": "stderr",
     "output_type": "stream",
     "text": [
      "Train Loss: 0.94; Val Loss: 0.99: 100%|██████████| 1600/1600 [00:03<00:00, 492.06it/s]\n"
     ]
    },
    {
     "name": "stdout",
     "output_type": "stream",
     "text": [
      "TRAINING fcoin_20\n"
     ]
    },
    {
     "name": "stderr",
     "output_type": "stream",
     "text": [
      "Train Loss: 0.73; Val Loss: 0.95: 100%|██████████| 2200/2200 [00:04<00:00, 504.48it/s]\n"
     ]
    },
    {
     "name": "stdout",
     "output_type": "stream",
     "text": [
      "TRAINING fcoin_21\n"
     ]
    },
    {
     "name": "stderr",
     "output_type": "stream",
     "text": [
      "Train Loss: 0.85; Val Loss: 0.83: 100%|██████████| 1900/1900 [00:03<00:00, 531.42it/s]\n"
     ]
    },
    {
     "name": "stdout",
     "output_type": "stream",
     "text": [
      "TRAINING fcoin_22\n"
     ]
    },
    {
     "name": "stderr",
     "output_type": "stream",
     "text": [
      "Train Loss: 0.91; Val Loss: 0.98: 100%|██████████| 1150/1150 [00:02<00:00, 481.10it/s]\n"
     ]
    },
    {
     "name": "stdout",
     "output_type": "stream",
     "text": [
      "TRAINING fcoin_23\n"
     ]
    },
    {
     "name": "stderr",
     "output_type": "stream",
     "text": [
      "Train Loss: 0.90; Val Loss: 0.99: 100%|██████████| 1500/1500 [00:02<00:00, 518.46it/s]\n"
     ]
    },
    {
     "name": "stdout",
     "output_type": "stream",
     "text": [
      "TRAINING fcoin_24\n"
     ]
    },
    {
     "name": "stderr",
     "output_type": "stream",
     "text": [
      "Train Loss: 0.99; Val Loss: 0.99: 100%|██████████| 500/500 [00:01<00:00, 499.50it/s]\n"
     ]
    },
    {
     "name": "stdout",
     "output_type": "stream",
     "text": [
      "TRAINING fcoin_25\n"
     ]
    },
    {
     "name": "stderr",
     "output_type": "stream",
     "text": [
      "Train Loss: 0.83; Val Loss: 0.97: 100%|██████████| 2300/2300 [00:04<00:00, 505.25it/s]\n"
     ]
    },
    {
     "name": "stdout",
     "output_type": "stream",
     "text": [
      "TRAINING fcoin_26\n"
     ]
    },
    {
     "name": "stderr",
     "output_type": "stream",
     "text": [
      "Train Loss: 0.98; Val Loss: 0.99: 100%|██████████| 500/500 [00:00<00:00, 507.19it/s]\n"
     ]
    },
    {
     "name": "stdout",
     "output_type": "stream",
     "text": [
      "TRAINING fcoin_27\n"
     ]
    },
    {
     "name": "stderr",
     "output_type": "stream",
     "text": [
      "Train Loss: 0.96; Val Loss: 0.88: 100%|██████████| 1500/1500 [00:02<00:00, 505.93it/s]\n"
     ]
    },
    {
     "name": "stdout",
     "output_type": "stream",
     "text": [
      "TRAINING fcoin_28\n"
     ]
    },
    {
     "name": "stderr",
     "output_type": "stream",
     "text": [
      "Train Loss: 0.99; Val Loss: 0.99: 100%|██████████| 500/500 [00:00<00:00, 528.18it/s]\n"
     ]
    },
    {
     "name": "stdout",
     "output_type": "stream",
     "text": [
      "TRAINING fcoin_29\n"
     ]
    },
    {
     "name": "stderr",
     "output_type": "stream",
     "text": [
      "Train Loss: 0.88; Val Loss: 0.97: 100%|██████████| 2200/2200 [00:04<00:00, 511.55it/s]\n"
     ]
    },
    {
     "name": "stdout",
     "output_type": "stream",
     "text": [
      "TRAINING fcoin_30\n"
     ]
    },
    {
     "name": "stderr",
     "output_type": "stream",
     "text": [
      "Train Loss: 0.84; Val Loss: 1.00: 100%|██████████| 2200/2200 [00:04<00:00, 490.60it/s]\n"
     ]
    },
    {
     "name": "stdout",
     "output_type": "stream",
     "text": [
      "TRAINING fcoin_31\n"
     ]
    },
    {
     "name": "stderr",
     "output_type": "stream",
     "text": [
      "Train Loss: 0.95; Val Loss: 0.83: 100%|██████████| 1700/1700 [00:03<00:00, 519.46it/s]\n"
     ]
    },
    {
     "name": "stdout",
     "output_type": "stream",
     "text": [
      "TRAINING fcoin_32\n"
     ]
    },
    {
     "name": "stderr",
     "output_type": "stream",
     "text": [
      "Train Loss: 0.92; Val Loss: 0.92: 100%|██████████| 1500/1500 [00:03<00:00, 487.27it/s]\n"
     ]
    },
    {
     "name": "stdout",
     "output_type": "stream",
     "text": [
      "TRAINING fcoin_33\n"
     ]
    },
    {
     "name": "stderr",
     "output_type": "stream",
     "text": [
      "Train Loss: 0.99; Val Loss: 1.00: 100%|██████████| 500/500 [00:00<00:00, 524.92it/s]\n"
     ]
    },
    {
     "name": "stdout",
     "output_type": "stream",
     "text": [
      "TRAINING fcoin_34\n"
     ]
    },
    {
     "name": "stderr",
     "output_type": "stream",
     "text": [
      "Train Loss: 0.80; Val Loss: 0.97: 100%|██████████| 2400/2400 [00:04<00:00, 494.06it/s]\n"
     ]
    },
    {
     "name": "stdout",
     "output_type": "stream",
     "text": [
      "TRAINING fcoin_35\n"
     ]
    },
    {
     "name": "stderr",
     "output_type": "stream",
     "text": [
      "Train Loss: 0.98; Val Loss: 0.95: 100%|██████████| 600/600 [00:01<00:00, 526.01it/s]\n"
     ]
    },
    {
     "name": "stdout",
     "output_type": "stream",
     "text": [
      "TRAINING fcoin_36\n"
     ]
    },
    {
     "name": "stderr",
     "output_type": "stream",
     "text": [
      "Train Loss: 0.91; Val Loss: 0.98: 100%|██████████| 1500/1500 [00:02<00:00, 516.55it/s]\n"
     ]
    },
    {
     "name": "stdout",
     "output_type": "stream",
     "text": [
      "TRAINING fcoin_37\n"
     ]
    },
    {
     "name": "stderr",
     "output_type": "stream",
     "text": [
      "Train Loss: 0.90; Val Loss: 0.93: 100%|██████████| 2300/2300 [00:04<00:00, 494.84it/s]\n"
     ]
    },
    {
     "name": "stdout",
     "output_type": "stream",
     "text": [
      "TRAINING fcoin_38\n"
     ]
    },
    {
     "name": "stderr",
     "output_type": "stream",
     "text": [
      "Train Loss: 0.88; Val Loss: 0.89: 100%|██████████| 1250/1250 [00:02<00:00, 482.27it/s]\n"
     ]
    },
    {
     "name": "stdout",
     "output_type": "stream",
     "text": [
      "TRAINING fcoin_39\n"
     ]
    },
    {
     "name": "stderr",
     "output_type": "stream",
     "text": [
      "Train Loss: 0.96; Val Loss: 0.98: 100%|██████████| 1600/1600 [00:03<00:00, 506.02it/s]\n"
     ]
    },
    {
     "name": "stdout",
     "output_type": "stream",
     "text": [
      "TRAINING fcoin_40\n"
     ]
    },
    {
     "name": "stderr",
     "output_type": "stream",
     "text": [
      "Train Loss: 0.99; Val Loss: 0.99: 100%|██████████| 500/500 [00:00<00:00, 518.92it/s]\n"
     ]
    },
    {
     "name": "stdout",
     "output_type": "stream",
     "text": [
      "TRAINING fcoin_41\n"
     ]
    },
    {
     "name": "stderr",
     "output_type": "stream",
     "text": [
      "Train Loss: 0.98; Val Loss: 0.97: 100%|██████████| 800/800 [00:01<00:00, 464.88it/s]\n"
     ]
    },
    {
     "name": "stdout",
     "output_type": "stream",
     "text": [
      "TRAINING fcoin_42\n"
     ]
    },
    {
     "name": "stderr",
     "output_type": "stream",
     "text": [
      "Train Loss: 0.95; Val Loss: 0.90: 100%|██████████| 1200/1200 [00:02<00:00, 531.58it/s]\n"
     ]
    },
    {
     "name": "stdout",
     "output_type": "stream",
     "text": [
      "TRAINING fcoin_43\n"
     ]
    },
    {
     "name": "stderr",
     "output_type": "stream",
     "text": [
      "Train Loss: 0.83; Val Loss: 0.98: 100%|██████████| 2300/2300 [00:04<00:00, 501.89it/s]\n"
     ]
    },
    {
     "name": "stdout",
     "output_type": "stream",
     "text": [
      "TRAINING fcoin_44\n"
     ]
    },
    {
     "name": "stderr",
     "output_type": "stream",
     "text": [
      "Train Loss: 0.83; Val Loss: 0.99: 100%|██████████| 1500/1500 [00:02<00:00, 531.19it/s]\n"
     ]
    },
    {
     "name": "stdout",
     "output_type": "stream",
     "text": [
      "TRAINING fcoin_45\n"
     ]
    },
    {
     "name": "stderr",
     "output_type": "stream",
     "text": [
      "Train Loss: 0.80; Val Loss: 0.97: 100%|██████████| 2200/2200 [00:04<00:00, 499.43it/s]\n"
     ]
    },
    {
     "name": "stdout",
     "output_type": "stream",
     "text": [
      "TRAINING fcoin_46\n"
     ]
    },
    {
     "name": "stderr",
     "output_type": "stream",
     "text": [
      "Train Loss: 0.88; Val Loss: 0.92: 100%|██████████| 1700/1700 [00:03<00:00, 483.17it/s]\n"
     ]
    },
    {
     "name": "stdout",
     "output_type": "stream",
     "text": [
      "TRAINING fcoin_47\n"
     ]
    },
    {
     "name": "stderr",
     "output_type": "stream",
     "text": [
      "Train Loss: 0.81; Val Loss: 0.92: 100%|██████████| 2500/2500 [00:04<00:00, 511.90it/s]\n"
     ]
    },
    {
     "name": "stdout",
     "output_type": "stream",
     "text": [
      "TRAINING fcoin_48\n"
     ]
    },
    {
     "name": "stderr",
     "output_type": "stream",
     "text": [
      "Train Loss: 0.95; Val Loss: 0.96: 100%|██████████| 500/500 [00:01<00:00, 455.20it/s]\n"
     ]
    },
    {
     "name": "stdout",
     "output_type": "stream",
     "text": [
      "TRAINING fcoin_49\n"
     ]
    },
    {
     "name": "stderr",
     "output_type": "stream",
     "text": [
      "Train Loss: 0.96; Val Loss: 0.99: 100%|██████████| 500/500 [00:00<00:00, 518.88it/s]\n"
     ]
    },
    {
     "name": "stdout",
     "output_type": "stream",
     "text": [
      "TRAINING fcoin_50\n"
     ]
    },
    {
     "name": "stderr",
     "output_type": "stream",
     "text": [
      "Train Loss: 0.97; Val Loss: 1.00: 100%|██████████| 500/500 [00:00<00:00, 520.12it/s]\n"
     ]
    },
    {
     "name": "stdout",
     "output_type": "stream",
     "text": [
      "TRAINING fcoin_51\n"
     ]
    },
    {
     "name": "stderr",
     "output_type": "stream",
     "text": [
      "Train Loss: 0.83; Val Loss: 0.98: 100%|██████████| 2100/2100 [00:04<00:00, 488.32it/s]\n"
     ]
    },
    {
     "name": "stdout",
     "output_type": "stream",
     "text": [
      "TRAINING fcoin_52\n"
     ]
    },
    {
     "name": "stderr",
     "output_type": "stream",
     "text": [
      "Train Loss: 0.99; Val Loss: 0.96: 100%|██████████| 915/915 [00:01<00:00, 508.91it/s]\n"
     ]
    },
    {
     "name": "stdout",
     "output_type": "stream",
     "text": [
      "TRAINING fcoin_53\n"
     ]
    },
    {
     "name": "stderr",
     "output_type": "stream",
     "text": [
      "Train Loss: 0.83; Val Loss: 0.94: 100%|██████████| 2300/2300 [00:04<00:00, 504.56it/s]\n"
     ]
    },
    {
     "name": "stdout",
     "output_type": "stream",
     "text": [
      "TRAINING fcoin_54\n"
     ]
    },
    {
     "name": "stderr",
     "output_type": "stream",
     "text": [
      "Train Loss: 0.96; Val Loss: 0.99: 100%|██████████| 500/500 [00:00<00:00, 502.10it/s]\n"
     ]
    },
    {
     "name": "stdout",
     "output_type": "stream",
     "text": [
      "TRAINING fcoin_55\n"
     ]
    },
    {
     "name": "stderr",
     "output_type": "stream",
     "text": [
      "Train Loss: 0.98; Val Loss: 0.98: 100%|██████████| 780/780 [00:01<00:00, 508.74it/s]\n"
     ]
    },
    {
     "name": "stdout",
     "output_type": "stream",
     "text": [
      "TRAINING fcoin_56\n"
     ]
    },
    {
     "name": "stderr",
     "output_type": "stream",
     "text": [
      "Train Loss: 0.98; Val Loss: 0.98: 100%|██████████| 500/500 [00:01<00:00, 489.87it/s]\n"
     ]
    },
    {
     "name": "stdout",
     "output_type": "stream",
     "text": [
      "TRAINING fcoin_57\n"
     ]
    },
    {
     "name": "stderr",
     "output_type": "stream",
     "text": [
      "Train Loss: 0.89; Val Loss: 0.98: 100%|██████████| 1380/1380 [00:02<00:00, 494.69it/s]\n"
     ]
    },
    {
     "name": "stdout",
     "output_type": "stream",
     "text": [
      "TRAINING fcoin_58\n"
     ]
    },
    {
     "name": "stderr",
     "output_type": "stream",
     "text": [
      "Train Loss: 0.90; Val Loss: 1.00: 100%|██████████| 2400/2400 [00:04<00:00, 501.77it/s]\n"
     ]
    },
    {
     "name": "stdout",
     "output_type": "stream",
     "text": [
      "TRAINING fcoin_59\n"
     ]
    },
    {
     "name": "stderr",
     "output_type": "stream",
     "text": [
      "Train Loss: 0.89; Val Loss: 1.00: 100%|██████████| 2300/2300 [00:04<00:00, 499.92it/s]\n"
     ]
    },
    {
     "name": "stdout",
     "output_type": "stream",
     "text": [
      "TRAINING fcoin_60\n"
     ]
    },
    {
     "name": "stderr",
     "output_type": "stream",
     "text": [
      "Train Loss: 0.99; Val Loss: 0.98: 100%|██████████| 800/800 [00:01<00:00, 515.06it/s]\n"
     ]
    },
    {
     "name": "stdout",
     "output_type": "stream",
     "text": [
      "TRAINING fcoin_61\n"
     ]
    },
    {
     "name": "stderr",
     "output_type": "stream",
     "text": [
      "Train Loss: 1.00; Val Loss: 0.88: 100%|██████████| 200/200 [00:00<00:00, 517.44it/s]\n"
     ]
    },
    {
     "name": "stdout",
     "output_type": "stream",
     "text": [
      "TRAINING fcoin_62\n"
     ]
    },
    {
     "name": "stderr",
     "output_type": "stream",
     "text": [
      "Train Loss: 0.88; Val Loss: 0.97: 100%|██████████| 2100/2100 [00:04<00:00, 494.30it/s]\n"
     ]
    },
    {
     "name": "stdout",
     "output_type": "stream",
     "text": [
      "TRAINING fcoin_63\n"
     ]
    },
    {
     "name": "stderr",
     "output_type": "stream",
     "text": [
      "Train Loss: 0.80; Val Loss: 0.97: 100%|██████████| 2000/2000 [00:03<00:00, 514.15it/s]\n"
     ]
    },
    {
     "name": "stdout",
     "output_type": "stream",
     "text": [
      "TRAINING fcoin_64\n"
     ]
    },
    {
     "name": "stderr",
     "output_type": "stream",
     "text": [
      "Train Loss: 0.82; Val Loss: 0.91: 100%|██████████| 2500/2500 [00:04<00:00, 506.14it/s]\n"
     ]
    },
    {
     "name": "stdout",
     "output_type": "stream",
     "text": [
      "TRAINING fcoin_65\n"
     ]
    },
    {
     "name": "stderr",
     "output_type": "stream",
     "text": [
      "Train Loss: 0.99; Val Loss: 0.93: 100%|██████████| 800/800 [00:01<00:00, 515.20it/s]\n"
     ]
    }
   ],
   "source": [
    "train_params={\n",
    "    'display_on_epoch':1\n",
    "}\n",
    "predictor.train(device=DEVICE,\n",
    "                epochs=epochs,\n",
    "                loss_fn=pearson_c,\n",
    "                learning_rate=lr,\n",
    "                epoch_shedule=epoch_shedule,\n",
    "                other_train_params=train_params)"
   ],
   "metadata": {
    "collapsed": false
   }
  },
  {
   "cell_type": "code",
   "execution_count": 10,
   "outputs": [
    {
     "data": {
      "text/plain": "tensor([[1.0000, 0.0395],\n        [0.0395, 1.0000]], dtype=torch.float64)"
     },
     "execution_count": 10,
     "metadata": {},
     "output_type": "execute_result"
    }
   ],
   "source": [
    "ind = 28800\n",
    "y_preds = predictor.predict(df.iloc[ind:], device='cuda')\n",
    "t.corrcoef(t.concat([\n",
    "    t.tensor(df.iloc[ind:]['fwd_ret_3d'].values).reshape(-1,1).T,\n",
    "    t.tensor(y_preds.values).reshape(-1,1).T\n",
    "], dim=0)\n",
    ")\n"
   ],
   "metadata": {
    "collapsed": false
   }
  },
  {
   "cell_type": "code",
   "execution_count": 18,
   "outputs": [],
   "source": [
    "from datetime import datetime\n",
    "y_pred = predictor.predict(df_test, DEVICE)\n",
    "y_pred['Id'] = y_pred.index\n",
    "y_pred['Predicted'] = y_pred[0]\n",
    "y_pred.to_csv('./submission_{}.csv'.format(datetime.now().timestamp()),\n",
    "              columns=['Id', 'Predicted'], index=False)"
   ],
   "metadata": {
    "collapsed": false
   }
  },
  {
   "cell_type": "code",
   "execution_count": 15,
   "outputs": [
    {
     "data": {
      "text/plain": "1673969402.174431"
     },
     "execution_count": 15,
     "metadata": {},
     "output_type": "execute_result"
    }
   ],
   "source": [
    "import datetime\n",
    "datetime.datetime.now().timestamp()"
   ],
   "metadata": {
    "collapsed": false
   }
  }
 ],
 "metadata": {
  "kernelspec": {
   "display_name": "Python 3",
   "language": "python",
   "name": "python3"
  },
  "language_info": {
   "codemirror_mode": {
    "name": "ipython",
    "version": 2
   },
   "file_extension": ".py",
   "mimetype": "text/x-python",
   "name": "python",
   "nbconvert_exporter": "python",
   "pygments_lexer": "ipython2",
   "version": "2.7.6"
  }
 },
 "nbformat": 4,
 "nbformat_minor": 0
}
