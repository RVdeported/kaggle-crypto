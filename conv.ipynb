{
 "cells": [
  {
   "cell_type": "code",
   "execution_count": 1,
   "metadata": {
    "collapsed": true
   },
   "outputs": [],
   "source": [
    "import torch as t\n",
    "from torch import nn\n",
    "import numpy as np\n",
    "import pandas as pd\n",
    "\n",
    "from utils import Pipeline_lstm\n",
    "from torch.utils.tensorboard import SummaryWriter\n",
    "\n",
    "import warnings\n",
    "warnings.simplefilter('ignore')\n",
    "DEVICE = 'cuda' if t.cuda.is_available() else 'cpu'"
   ]
  },
  {
   "cell_type": "code",
   "execution_count": 2,
   "outputs": [],
   "source": [
    "df = pd.read_csv('./train.csv', index_col=0)\n",
    "df_test = pd.read_csv('./test.csv', index_col=0)\n",
    "\n",
    "df_coin = df.loc[df['coin_id'] == 'coin_1']"
   ],
   "metadata": {
    "collapsed": false
   }
  },
  {
   "cell_type": "code",
   "execution_count": 24,
   "outputs": [],
   "source": [
    "features = ['feat_1', 'feat_2', 'feat_3', 'feat_4', 'feat_5', 'feat_8', 'feat_9', 'feat_10']\n",
    "lookback=30\n",
    "\n",
    "train_split = 0.8\n",
    "split_ind = int(df_coin.shape[0] * train_split)\n",
    "\n",
    "X_train = df_coin[features].iloc[:split_ind]\n",
    "X_test = df_coin[features].iloc[split_ind:]\n",
    "\n",
    "y_train = df_coin['fwd_ret_3d'].iloc[:split_ind]\n",
    "y_test = df_coin['fwd_ret_3d'].iloc[split_ind:]\n",
    "\n",
    "pipe = Pipeline_lstm(lookback=lookback)\n",
    "train_ds = pipe.fit_transform(X_train, y_train)\n",
    "val_ds = pipe.transform(X_test, y_test)"
   ],
   "metadata": {
    "collapsed": false
   }
  },
  {
   "cell_type": "code",
   "execution_count": 25,
   "outputs": [],
   "source": [
    "class ConvModel(nn.Module):\n",
    "    def __init__(self, channels=5):\n",
    "        super().__init__()\n",
    "        self.conv = t.nn.Sequential(\n",
    "            t.nn.Conv1d(channels, 64, 3, padding=1),\n",
    "            t.nn.BatchNorm1d(64),\n",
    "            t.nn.ReLU(),\n",
    "\n",
    "            t.nn.Conv1d(64, 128, 3, padding=1),\n",
    "            t.nn.BatchNorm1d(128),\n",
    "            t.nn.ReLU(),\n",
    "\n",
    "            t.nn.Flatten(),\n",
    "            t.nn.Linear(1024, 256),\n",
    "            t.nn.Linear(256, 1)\n",
    "        )\n",
    "        self.conv[0].bias.data.fill_(0.01)\n",
    "        self.conv[0].weight.data.fill_(0.01)\n",
    "        self.conv[-1].bias.data.fill_(0.01)\n",
    "        self.conv[-1].weight.data.fill_(0.01)\n",
    "\n",
    "    def forward(self, x):\n",
    "        return self.conv(x)\n",
    "\n"
   ],
   "metadata": {
    "collapsed": false
   }
  },
  {
   "cell_type": "code",
   "execution_count": 29,
   "outputs": [
    {
     "name": "stderr",
     "output_type": "stream",
     "text": [
      "Train Loss: 0.87; Val Loss: 0.71: 100%|██████████| 39/39 [00:00<00:00, 240.53it/s]\n"
     ]
    }
   ],
   "source": [
    "from train_tools import TrainModel_NoLoader, pearson_c\n",
    "\n",
    "model_conv = ConvModel(lookback).to(device=DEVICE)\n",
    "\n",
    "lr = 3e-6\n",
    "optimizer = t.optim.Adam(model_conv.parameters(),\n",
    "                         lr=lr)\n",
    "writer = SummaryWriter('./runs/1dConv/')\n",
    "epochs=39\n",
    "\n",
    "_ = TrainModel_NoLoader(model=model_conv,\n",
    "                        loss_fn=pearson_c,\n",
    "                        optimizer=optimizer,\n",
    "                        train_ds=train_ds,\n",
    "                        val_ds=val_ds,\n",
    "                        epochs=epochs,\n",
    "                        display_on_epoch = 1,\n",
    "                        device=DEVICE,\n",
    "                        writer=writer)"
   ],
   "metadata": {
    "collapsed": false
   }
  },
  {
   "cell_type": "code",
   "execution_count": 30,
   "outputs": [],
   "source": [
    "from SeparatePredictor import Conv1dPredictor\n",
    "\n",
    "lookback = 30\n",
    "\n",
    "features = ['feat_1', 'feat_2', 'feat_3', 'feat_4', 'feat_5', 'feat_8', 'feat_9', 'feat_10']\n",
    "\n",
    "predictor = Conv1dPredictor(models=[ConvModel],\n",
    "                            data=df,\n",
    "                            params={'channels': lookback},\n",
    "                            lookback=lookback,\n",
    "                            device=DEVICE,\n",
    "                            relevant_features=features)\n",
    "predictor.prepare()"
   ],
   "metadata": {
    "collapsed": false
   }
  },
  {
   "cell_type": "code",
   "execution_count": 9,
   "outputs": [],
   "source": [
    "import json\n",
    "\n",
    "with open('./epoch_shedule.json', 'r') as f:\n",
    "    epoch_shedule = json.load(f)"
   ],
   "metadata": {
    "collapsed": false
   }
  },
  {
   "cell_type": "code",
   "execution_count": 31,
   "outputs": [
    {
     "name": "stdout",
     "output_type": "stream",
     "text": [
      "TRAINING fcoin_1\n"
     ]
    },
    {
     "name": "stderr",
     "output_type": "stream",
     "text": [
      "Train Loss: 0.87; Val Loss: 0.83: 100%|██████████| 30/30 [00:00<00:00, 273.74it/s]\n"
     ]
    },
    {
     "name": "stdout",
     "output_type": "stream",
     "text": [
      "TRAINING fcoin_2\n"
     ]
    },
    {
     "name": "stderr",
     "output_type": "stream",
     "text": [
      "Train Loss: 0.88; Val Loss: 0.99: 100%|██████████| 30/30 [00:00<00:00, 247.14it/s]\n"
     ]
    },
    {
     "name": "stdout",
     "output_type": "stream",
     "text": [
      "TRAINING fcoin_3\n"
     ]
    },
    {
     "name": "stderr",
     "output_type": "stream",
     "text": [
      "Train Loss: 0.84; Val Loss: 0.88: 100%|██████████| 30/30 [00:00<00:00, 212.26it/s]\n"
     ]
    },
    {
     "name": "stdout",
     "output_type": "stream",
     "text": [
      "TRAINING fcoin_4\n"
     ]
    },
    {
     "name": "stderr",
     "output_type": "stream",
     "text": [
      "Train Loss: 0.88; Val Loss: 0.88: 100%|██████████| 30/30 [00:00<00:00, 237.88it/s]\n"
     ]
    },
    {
     "name": "stdout",
     "output_type": "stream",
     "text": [
      "TRAINING fcoin_5\n"
     ]
    },
    {
     "name": "stderr",
     "output_type": "stream",
     "text": [
      "Train Loss: 0.81; Val Loss: 0.89: 100%|██████████| 30/30 [00:00<00:00, 279.42it/s]\n"
     ]
    },
    {
     "name": "stdout",
     "output_type": "stream",
     "text": [
      "TRAINING fcoin_6\n"
     ]
    },
    {
     "name": "stderr",
     "output_type": "stream",
     "text": [
      "Train Loss: 0.98; Val Loss: 0.92: 100%|██████████| 30/30 [00:00<00:00, 167.94it/s]\n"
     ]
    },
    {
     "name": "stdout",
     "output_type": "stream",
     "text": [
      "TRAINING fcoin_7\n"
     ]
    },
    {
     "name": "stderr",
     "output_type": "stream",
     "text": [
      "Train Loss: 0.86; Val Loss: 0.93: 100%|██████████| 30/30 [00:00<00:00, 170.61it/s]\n"
     ]
    },
    {
     "name": "stdout",
     "output_type": "stream",
     "text": [
      "TRAINING fcoin_8\n"
     ]
    },
    {
     "name": "stderr",
     "output_type": "stream",
     "text": [
      "Train Loss: 0.76; Val Loss: 1.07: 100%|██████████| 30/30 [00:00<00:00, 183.56it/s]\n"
     ]
    },
    {
     "name": "stdout",
     "output_type": "stream",
     "text": [
      "TRAINING fcoin_9\n"
     ]
    },
    {
     "name": "stderr",
     "output_type": "stream",
     "text": [
      "Train Loss: 0.90; Val Loss: 0.86: 100%|██████████| 30/30 [00:00<00:00, 202.14it/s]\n"
     ]
    },
    {
     "name": "stdout",
     "output_type": "stream",
     "text": [
      "TRAINING fcoin_10\n"
     ]
    },
    {
     "name": "stderr",
     "output_type": "stream",
     "text": [
      "Train Loss: 0.76; Val Loss: 1.16: 100%|██████████| 30/30 [00:00<00:00, 193.26it/s]\n"
     ]
    },
    {
     "name": "stdout",
     "output_type": "stream",
     "text": [
      "TRAINING fcoin_11\n"
     ]
    },
    {
     "name": "stderr",
     "output_type": "stream",
     "text": [
      "Train Loss: 0.78; Val Loss: 1.05: 100%|██████████| 30/30 [00:00<00:00, 189.11it/s]\n"
     ]
    },
    {
     "name": "stdout",
     "output_type": "stream",
     "text": [
      "TRAINING fcoin_12\n"
     ]
    },
    {
     "name": "stderr",
     "output_type": "stream",
     "text": [
      "Train Loss: 0.80; Val Loss: 1.10: 100%|██████████| 30/30 [00:00<00:00, 226.23it/s]\n"
     ]
    },
    {
     "name": "stdout",
     "output_type": "stream",
     "text": [
      "TRAINING fcoin_13\n"
     ]
    },
    {
     "name": "stderr",
     "output_type": "stream",
     "text": [
      "Train Loss: 0.91; Val Loss: 0.89: 100%|██████████| 30/30 [00:00<00:00, 267.66it/s]\n"
     ]
    },
    {
     "name": "stdout",
     "output_type": "stream",
     "text": [
      "TRAINING fcoin_14\n"
     ]
    },
    {
     "name": "stderr",
     "output_type": "stream",
     "text": [
      "Train Loss: 0.94; Val Loss: 1.15: 100%|██████████| 30/30 [00:00<00:00, 249.90it/s]\n"
     ]
    },
    {
     "name": "stdout",
     "output_type": "stream",
     "text": [
      "TRAINING fcoin_15\n"
     ]
    },
    {
     "name": "stderr",
     "output_type": "stream",
     "text": [
      "Train Loss: 0.78; Val Loss: 0.80: 100%|██████████| 30/30 [00:00<00:00, 213.44it/s]\n"
     ]
    },
    {
     "name": "stdout",
     "output_type": "stream",
     "text": [
      "TRAINING fcoin_16\n"
     ]
    },
    {
     "name": "stderr",
     "output_type": "stream",
     "text": [
      "Train Loss: 0.97; Val Loss: 0.85: 100%|██████████| 30/30 [00:00<00:00, 123.84it/s]\n"
     ]
    },
    {
     "name": "stdout",
     "output_type": "stream",
     "text": [
      "TRAINING fcoin_17\n"
     ]
    },
    {
     "name": "stderr",
     "output_type": "stream",
     "text": [
      "Train Loss: 0.87; Val Loss: 0.88: 100%|██████████| 30/30 [00:00<00:00, 209.86it/s]\n"
     ]
    },
    {
     "name": "stdout",
     "output_type": "stream",
     "text": [
      "TRAINING fcoin_18\n"
     ]
    },
    {
     "name": "stderr",
     "output_type": "stream",
     "text": [
      "Train Loss: 0.87; Val Loss: 1.00: 100%|██████████| 30/30 [00:00<00:00, 265.04it/s]\n"
     ]
    },
    {
     "name": "stdout",
     "output_type": "stream",
     "text": [
      "TRAINING fcoin_19\n"
     ]
    },
    {
     "name": "stderr",
     "output_type": "stream",
     "text": [
      "Train Loss: 0.81; Val Loss: 0.98: 100%|██████████| 30/30 [00:00<00:00, 234.17it/s]\n"
     ]
    },
    {
     "name": "stdout",
     "output_type": "stream",
     "text": [
      "TRAINING fcoin_20\n"
     ]
    },
    {
     "name": "stderr",
     "output_type": "stream",
     "text": [
      "Train Loss: 0.97; Val Loss: 1.05: 100%|██████████| 30/30 [00:00<00:00, 229.66it/s]\n"
     ]
    },
    {
     "name": "stdout",
     "output_type": "stream",
     "text": [
      "TRAINING fcoin_21\n"
     ]
    },
    {
     "name": "stderr",
     "output_type": "stream",
     "text": [
      "Train Loss: 0.78; Val Loss: 0.96: 100%|██████████| 30/30 [00:00<00:00, 298.58it/s]\n"
     ]
    },
    {
     "name": "stdout",
     "output_type": "stream",
     "text": [
      "TRAINING fcoin_22\n"
     ]
    },
    {
     "name": "stderr",
     "output_type": "stream",
     "text": [
      "Train Loss: 0.93; Val Loss: 0.81: 100%|██████████| 30/30 [00:00<00:00, 264.70it/s]\n"
     ]
    },
    {
     "name": "stdout",
     "output_type": "stream",
     "text": [
      "TRAINING fcoin_23\n"
     ]
    },
    {
     "name": "stderr",
     "output_type": "stream",
     "text": [
      "Train Loss: 0.83; Val Loss: 1.14: 100%|██████████| 30/30 [00:00<00:00, 307.43it/s]\n"
     ]
    },
    {
     "name": "stdout",
     "output_type": "stream",
     "text": [
      "TRAINING fcoin_24\n"
     ]
    },
    {
     "name": "stderr",
     "output_type": "stream",
     "text": [
      "Train Loss: 0.99; Val Loss: 0.91: 100%|██████████| 30/30 [00:00<00:00, 286.11it/s]\n"
     ]
    },
    {
     "name": "stdout",
     "output_type": "stream",
     "text": [
      "TRAINING fcoin_25\n"
     ]
    },
    {
     "name": "stderr",
     "output_type": "stream",
     "text": [
      "Train Loss: 0.83; Val Loss: 0.76: 100%|██████████| 30/30 [00:00<00:00, 326.33it/s]\n"
     ]
    },
    {
     "name": "stdout",
     "output_type": "stream",
     "text": [
      "TRAINING fcoin_26\n"
     ]
    },
    {
     "name": "stderr",
     "output_type": "stream",
     "text": [
      "Train Loss: 0.86; Val Loss: 1.01: 100%|██████████| 30/30 [00:00<00:00, 226.11it/s]\n"
     ]
    },
    {
     "name": "stdout",
     "output_type": "stream",
     "text": [
      "TRAINING fcoin_27\n"
     ]
    },
    {
     "name": "stderr",
     "output_type": "stream",
     "text": [
      "Train Loss: 0.86; Val Loss: 0.80: 100%|██████████| 30/30 [00:00<00:00, 253.86it/s]\n"
     ]
    },
    {
     "name": "stdout",
     "output_type": "stream",
     "text": [
      "TRAINING fcoin_28\n"
     ]
    },
    {
     "name": "stderr",
     "output_type": "stream",
     "text": [
      "Train Loss: 0.70; Val Loss: 1.00: 100%|██████████| 30/30 [00:00<00:00, 298.81it/s]\n"
     ]
    },
    {
     "name": "stdout",
     "output_type": "stream",
     "text": [
      "TRAINING fcoin_29\n"
     ]
    },
    {
     "name": "stderr",
     "output_type": "stream",
     "text": [
      "Train Loss: 0.83; Val Loss: 1.09: 100%|██████████| 30/30 [00:00<00:00, 289.09it/s]\n"
     ]
    },
    {
     "name": "stdout",
     "output_type": "stream",
     "text": [
      "TRAINING fcoin_30\n"
     ]
    },
    {
     "name": "stderr",
     "output_type": "stream",
     "text": [
      "Train Loss: 0.79; Val Loss: 1.01: 100%|██████████| 30/30 [00:00<00:00, 231.27it/s]\n"
     ]
    },
    {
     "name": "stdout",
     "output_type": "stream",
     "text": [
      "TRAINING fcoin_31\n"
     ]
    },
    {
     "name": "stderr",
     "output_type": "stream",
     "text": [
      "Train Loss: 0.76; Val Loss: 1.25: 100%|██████████| 30/30 [00:00<00:00, 312.14it/s]\n"
     ]
    },
    {
     "name": "stdout",
     "output_type": "stream",
     "text": [
      "TRAINING fcoin_32\n"
     ]
    },
    {
     "name": "stderr",
     "output_type": "stream",
     "text": [
      "Train Loss: 0.71; Val Loss: 1.08: 100%|██████████| 30/30 [00:00<00:00, 293.84it/s]\n"
     ]
    },
    {
     "name": "stdout",
     "output_type": "stream",
     "text": [
      "TRAINING fcoin_33\n"
     ]
    },
    {
     "name": "stderr",
     "output_type": "stream",
     "text": [
      "Train Loss: 0.80; Val Loss: 1.01: 100%|██████████| 30/30 [00:00<00:00, 300.37it/s]\n"
     ]
    },
    {
     "name": "stdout",
     "output_type": "stream",
     "text": [
      "TRAINING fcoin_34\n"
     ]
    },
    {
     "name": "stderr",
     "output_type": "stream",
     "text": [
      "Train Loss: 0.79; Val Loss: 0.91: 100%|██████████| 30/30 [00:00<00:00, 207.44it/s]\n"
     ]
    },
    {
     "name": "stdout",
     "output_type": "stream",
     "text": [
      "TRAINING fcoin_35\n"
     ]
    },
    {
     "name": "stderr",
     "output_type": "stream",
     "text": [
      "Train Loss: 0.80; Val Loss: 1.12: 100%|██████████| 30/30 [00:00<00:00, 198.57it/s]\n"
     ]
    },
    {
     "name": "stdout",
     "output_type": "stream",
     "text": [
      "TRAINING fcoin_36\n"
     ]
    },
    {
     "name": "stderr",
     "output_type": "stream",
     "text": [
      "Train Loss: 0.77; Val Loss: 0.89: 100%|██████████| 30/30 [00:00<00:00, 215.87it/s]\n"
     ]
    },
    {
     "name": "stdout",
     "output_type": "stream",
     "text": [
      "TRAINING fcoin_37\n"
     ]
    },
    {
     "name": "stderr",
     "output_type": "stream",
     "text": [
      "Train Loss: 0.97; Val Loss: 1.16: 100%|██████████| 30/30 [00:00<00:00, 306.66it/s]\n"
     ]
    },
    {
     "name": "stdout",
     "output_type": "stream",
     "text": [
      "TRAINING fcoin_38\n"
     ]
    },
    {
     "name": "stderr",
     "output_type": "stream",
     "text": [
      "Train Loss: 1.00; Val Loss: 0.87: 100%|██████████| 30/30 [00:00<00:00, 280.21it/s]\n"
     ]
    },
    {
     "name": "stdout",
     "output_type": "stream",
     "text": [
      "TRAINING fcoin_39\n"
     ]
    },
    {
     "name": "stderr",
     "output_type": "stream",
     "text": [
      "Train Loss: 0.85; Val Loss: 1.06: 100%|██████████| 30/30 [00:00<00:00, 251.70it/s]\n"
     ]
    },
    {
     "name": "stdout",
     "output_type": "stream",
     "text": [
      "TRAINING fcoin_40\n"
     ]
    },
    {
     "name": "stderr",
     "output_type": "stream",
     "text": [
      "Train Loss: 0.76; Val Loss: 0.74: 100%|██████████| 30/30 [00:00<00:00, 330.53it/s]\n"
     ]
    },
    {
     "name": "stdout",
     "output_type": "stream",
     "text": [
      "TRAINING fcoin_41\n"
     ]
    },
    {
     "name": "stderr",
     "output_type": "stream",
     "text": [
      "Train Loss: 0.80; Val Loss: 0.91: 100%|██████████| 30/30 [00:00<00:00, 287.73it/s]\n"
     ]
    },
    {
     "name": "stdout",
     "output_type": "stream",
     "text": [
      "TRAINING fcoin_42\n"
     ]
    },
    {
     "name": "stderr",
     "output_type": "stream",
     "text": [
      "Train Loss: 0.88; Val Loss: 1.03: 100%|██████████| 30/30 [00:00<00:00, 317.47it/s]\n"
     ]
    },
    {
     "name": "stdout",
     "output_type": "stream",
     "text": [
      "TRAINING fcoin_43\n"
     ]
    },
    {
     "name": "stderr",
     "output_type": "stream",
     "text": [
      "Train Loss: 0.86; Val Loss: 1.18: 100%|██████████| 30/30 [00:00<00:00, 208.43it/s]\n"
     ]
    },
    {
     "name": "stdout",
     "output_type": "stream",
     "text": [
      "TRAINING fcoin_44\n"
     ]
    },
    {
     "name": "stderr",
     "output_type": "stream",
     "text": [
      "Train Loss: 0.80; Val Loss: 0.99: 100%|██████████| 30/30 [00:00<00:00, 267.36it/s]\n"
     ]
    },
    {
     "name": "stdout",
     "output_type": "stream",
     "text": [
      "TRAINING fcoin_45\n"
     ]
    },
    {
     "name": "stderr",
     "output_type": "stream",
     "text": [
      "Train Loss: 0.62; Val Loss: 0.91: 100%|██████████| 30/30 [00:00<00:00, 294.89it/s]\n"
     ]
    },
    {
     "name": "stdout",
     "output_type": "stream",
     "text": [
      "TRAINING fcoin_46\n"
     ]
    },
    {
     "name": "stderr",
     "output_type": "stream",
     "text": [
      "Train Loss: 0.83; Val Loss: 1.17: 100%|██████████| 30/30 [00:00<00:00, 202.92it/s]\n"
     ]
    },
    {
     "name": "stdout",
     "output_type": "stream",
     "text": [
      "TRAINING fcoin_47\n"
     ]
    },
    {
     "name": "stderr",
     "output_type": "stream",
     "text": [
      "Train Loss: 0.88; Val Loss: 0.61: 100%|██████████| 30/30 [00:00<00:00, 274.25it/s]\n"
     ]
    },
    {
     "name": "stdout",
     "output_type": "stream",
     "text": [
      "TRAINING fcoin_48\n"
     ]
    },
    {
     "name": "stderr",
     "output_type": "stream",
     "text": [
      "Train Loss: 0.93; Val Loss: 0.97: 100%|██████████| 30/30 [00:00<00:00, 277.29it/s]\n"
     ]
    },
    {
     "name": "stdout",
     "output_type": "stream",
     "text": [
      "TRAINING fcoin_49\n"
     ]
    },
    {
     "name": "stderr",
     "output_type": "stream",
     "text": [
      "Train Loss: 0.66; Val Loss: 0.91: 100%|██████████| 30/30 [00:00<00:00, 260.83it/s]\n"
     ]
    },
    {
     "name": "stdout",
     "output_type": "stream",
     "text": [
      "TRAINING fcoin_50\n"
     ]
    },
    {
     "name": "stderr",
     "output_type": "stream",
     "text": [
      "Train Loss: 0.83; Val Loss: 1.06: 100%|██████████| 30/30 [00:00<00:00, 293.52it/s]\n"
     ]
    },
    {
     "name": "stdout",
     "output_type": "stream",
     "text": [
      "TRAINING fcoin_51\n"
     ]
    },
    {
     "name": "stderr",
     "output_type": "stream",
     "text": [
      "Train Loss: 0.88; Val Loss: 0.82: 100%|██████████| 30/30 [00:00<00:00, 253.26it/s]\n"
     ]
    },
    {
     "name": "stdout",
     "output_type": "stream",
     "text": [
      "TRAINING fcoin_52\n"
     ]
    },
    {
     "name": "stderr",
     "output_type": "stream",
     "text": [
      "Train Loss: 0.87; Val Loss: 0.74: 100%|██████████| 30/30 [00:00<00:00, 279.09it/s]\n"
     ]
    },
    {
     "name": "stdout",
     "output_type": "stream",
     "text": [
      "TRAINING fcoin_53\n"
     ]
    },
    {
     "name": "stderr",
     "output_type": "stream",
     "text": [
      "Train Loss: 0.80; Val Loss: 0.97: 100%|██████████| 30/30 [00:00<00:00, 314.74it/s]\n"
     ]
    },
    {
     "name": "stdout",
     "output_type": "stream",
     "text": [
      "TRAINING fcoin_54\n"
     ]
    },
    {
     "name": "stderr",
     "output_type": "stream",
     "text": [
      "Train Loss: 0.71; Val Loss: 0.99: 100%|██████████| 30/30 [00:00<00:00, 224.60it/s]\n"
     ]
    },
    {
     "name": "stdout",
     "output_type": "stream",
     "text": [
      "TRAINING fcoin_55\n"
     ]
    },
    {
     "name": "stderr",
     "output_type": "stream",
     "text": [
      "Train Loss: 0.87; Val Loss: 1.05: 100%|██████████| 30/30 [00:00<00:00, 248.85it/s]\n"
     ]
    },
    {
     "name": "stdout",
     "output_type": "stream",
     "text": [
      "TRAINING fcoin_56\n"
     ]
    },
    {
     "name": "stderr",
     "output_type": "stream",
     "text": [
      "Train Loss: 0.70; Val Loss: 1.20: 100%|██████████| 30/30 [00:00<00:00, 257.90it/s]\n"
     ]
    },
    {
     "name": "stdout",
     "output_type": "stream",
     "text": [
      "TRAINING fcoin_57\n"
     ]
    },
    {
     "name": "stderr",
     "output_type": "stream",
     "text": [
      "Train Loss: 0.70; Val Loss: 0.86: 100%|██████████| 30/30 [00:00<00:00, 279.62it/s]\n"
     ]
    },
    {
     "name": "stdout",
     "output_type": "stream",
     "text": [
      "TRAINING fcoin_58\n"
     ]
    },
    {
     "name": "stderr",
     "output_type": "stream",
     "text": [
      "Train Loss: 0.99; Val Loss: 1.05: 100%|██████████| 30/30 [00:00<00:00, 297.88it/s]\n"
     ]
    },
    {
     "name": "stdout",
     "output_type": "stream",
     "text": [
      "TRAINING fcoin_59\n"
     ]
    },
    {
     "name": "stderr",
     "output_type": "stream",
     "text": [
      "Train Loss: 0.66; Val Loss: 1.02: 100%|██████████| 30/30 [00:00<00:00, 297.79it/s]\n"
     ]
    },
    {
     "name": "stdout",
     "output_type": "stream",
     "text": [
      "TRAINING fcoin_60\n"
     ]
    },
    {
     "name": "stderr",
     "output_type": "stream",
     "text": [
      "Train Loss: 0.76; Val Loss: 0.97: 100%|██████████| 30/30 [00:00<00:00, 206.71it/s]\n"
     ]
    },
    {
     "name": "stdout",
     "output_type": "stream",
     "text": [
      "TRAINING fcoin_61\n"
     ]
    },
    {
     "name": "stderr",
     "output_type": "stream",
     "text": [
      "Train Loss: 0.83; Val Loss: 0.67: 100%|██████████| 30/30 [00:00<00:00, 243.29it/s]\n"
     ]
    },
    {
     "name": "stdout",
     "output_type": "stream",
     "text": [
      "TRAINING fcoin_62\n"
     ]
    },
    {
     "name": "stderr",
     "output_type": "stream",
     "text": [
      "Train Loss: 0.77; Val Loss: 1.16: 100%|██████████| 30/30 [00:00<00:00, 244.69it/s]\n"
     ]
    },
    {
     "name": "stdout",
     "output_type": "stream",
     "text": [
      "TRAINING fcoin_63\n"
     ]
    },
    {
     "name": "stderr",
     "output_type": "stream",
     "text": [
      "Train Loss: 0.71; Val Loss: 1.01: 100%|██████████| 30/30 [00:00<00:00, 278.48it/s]\n"
     ]
    },
    {
     "name": "stdout",
     "output_type": "stream",
     "text": [
      "TRAINING fcoin_64\n"
     ]
    },
    {
     "name": "stderr",
     "output_type": "stream",
     "text": [
      "Train Loss: 0.82; Val Loss: 0.86: 100%|██████████| 30/30 [00:00<00:00, 204.50it/s]\n"
     ]
    },
    {
     "name": "stdout",
     "output_type": "stream",
     "text": [
      "TRAINING fcoin_65\n"
     ]
    },
    {
     "name": "stderr",
     "output_type": "stream",
     "text": [
      "Train Loss: 0.80; Val Loss: 1.12: 100%|██████████| 30/30 [00:00<00:00, 201.77it/s]\n"
     ]
    }
   ],
   "source": [
    "epochs=30\n",
    "\n",
    "train_params={\n",
    "    'display_on_epoch':1\n",
    "}\n",
    "predictor.train(device=DEVICE,\n",
    "                epochs=epochs,\n",
    "                loss_fn=pearson_c,\n",
    "                learning_rate=lr,\n",
    "                # epoch_shedule=epoch_shedule,\n",
    "                other_train_params=train_params)"
   ],
   "metadata": {
    "collapsed": false
   }
  },
  {
   "cell_type": "code",
   "execution_count": 35,
   "outputs": [
    {
     "data": {
      "text/plain": "tensor([[ 1.0000, -0.0017],\n        [-0.0017,  1.0000]], dtype=torch.float64)"
     },
     "execution_count": 35,
     "metadata": {},
     "output_type": "execute_result"
    }
   ],
   "source": [
    "ind = 28800\n",
    "y_preds = predictor.predict(df.iloc[ind:], device='cuda')\n",
    "t.corrcoef(t.concat([\n",
    "    t.tensor(df.iloc[ind:]['fwd_ret_3d'].values).reshape(-1,1).T,\n",
    "    t.tensor(y_preds.values).reshape(-1,1).T\n",
    "], dim=0)\n",
    ")\n"
   ],
   "metadata": {
    "collapsed": false
   }
  },
  {
   "cell_type": "code",
   "execution_count": 10,
   "outputs": [],
   "source": [
    "from datetime import datetime\n",
    "y_pred = predictor.predict(df_test, DEVICE)\n",
    "y_pred['Id'] = y_pred.index\n",
    "y_pred['Predicted'] = y_pred[0]\n",
    "y_pred.to_csv('./submission_{}.csv'.format(datetime.now().timestamp()),\n",
    "              columns=['Id', 'Predicted'], index=False)"
   ],
   "metadata": {
    "collapsed": false
   }
  },
  {
   "cell_type": "code",
   "execution_count": 11,
   "outputs": [
    {
     "data": {
      "text/plain": "1673972608.311652"
     },
     "execution_count": 11,
     "metadata": {},
     "output_type": "execute_result"
    }
   ],
   "source": [
    "import datetime\n",
    "datetime.datetime.now().timestamp()"
   ],
   "metadata": {
    "collapsed": false
   }
  }
 ],
 "metadata": {
  "kernelspec": {
   "display_name": "Python 3",
   "language": "python",
   "name": "python3"
  },
  "language_info": {
   "codemirror_mode": {
    "name": "ipython",
    "version": 2
   },
   "file_extension": ".py",
   "mimetype": "text/x-python",
   "name": "python",
   "nbconvert_exporter": "python",
   "pygments_lexer": "ipython2",
   "version": "2.7.6"
  }
 },
 "nbformat": 4,
 "nbformat_minor": 0
}
